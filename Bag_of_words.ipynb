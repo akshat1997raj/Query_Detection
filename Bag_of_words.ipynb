{
 "cells": [
  {
   "cell_type": "code",
   "execution_count": 5,
   "metadata": {},
   "outputs": [],
   "source": [
    "import pandas as pd\n",
    "import numpy as np\n",
    "import warnings\n",
    "warnings.filterwarnings(\"ignore\")\n",
    "from Functions import remove_punctation,apply_lemme,apply_stemming,remove_stop_words"
   ]
  },
  {
   "cell_type": "code",
   "execution_count": 6,
   "metadata": {},
   "outputs": [],
   "source": [
    "df = pd.read_csv('train_3.csv')\n",
    "df.drop(columns=['ID'], axis= 1, inplace= True)"
   ]
  },
  {
   "cell_type": "code",
   "execution_count": 7,
   "metadata": {},
   "outputs": [],
   "source": [
    "df['Title'] = df['Title'].str.lower()\n",
    "df['Title'] = df['Title'].astype(str)\n",
    "df['Title'] = df['Title'].apply(remove_punctation)\n",
    "df['Title'] = df['Title'].apply(remove_stop_words)"
   ]
  },
  {
   "cell_type": "code",
   "execution_count": 8,
   "metadata": {},
   "outputs": [
    {
     "name": "stdout",
     "output_type": "stream",
     "text": [
      "              precision    recall  f1-score   support\n",
      "\n",
      "           0       0.60      0.84      0.70        82\n",
      "           1       0.64      0.36      0.46        44\n",
      "           2       1.00      0.18      0.31        11\n",
      "           3       0.00      0.00      0.00        31\n",
      "           4       0.40      0.05      0.09        39\n",
      "           5       0.71      0.82      0.76       379\n",
      "           6       0.59      0.58      0.58       183\n",
      "\n",
      "    accuracy                           0.66       769\n",
      "   macro avg       0.56      0.41      0.42       769\n",
      "weighted avg       0.62      0.66      0.62       769\n",
      "\n"
     ]
    },
    {
     "data": {
      "text/plain": [
       "array(['Career', 'Hackathons', 'Misc', 'Other', 'Resources', 'Techniques',\n",
       "       'Tools'], dtype=object)"
      ]
     },
     "execution_count": 8,
     "metadata": {},
     "output_type": "execute_result"
    }
   ],
   "source": [
    "from sklearn.model_selection import train_test_split\n",
    "from sklearn.feature_extraction.text import CountVectorizer\n",
    "from sklearn.naive_bayes import MultinomialNB\n",
    "from sklearn.metrics import accuracy_score, classification_report\n",
    "from sklearn.preprocessing import LabelEncoder\n",
    "\n",
    "encoder = LabelEncoder()\n",
    "df['Domain'] = encoder.fit_transform(df['Domain'])\n",
    "vectorizer = CountVectorizer()\n",
    "x = vectorizer.fit_transform(df['Title'])\n",
    "x_train, x_test, y_train, y_test = train_test_split(x, df['Domain'], test_size= 0.2 , random_state= 50)\n",
    "classifier = MultinomialNB()\n",
    "classifier.fit(x_train, y_train)\n",
    "predictions = classifier.predict(x_test)\n",
    "\n",
    "accuracy = accuracy_score(y_test, predictions)\n",
    "report = classification_report(y_test, predictions)\n",
    "\n",
    "accuracy\n",
    "print(report)\n",
    "encoder.classes_"
   ]
  },
  {
   "cell_type": "code",
   "execution_count": 9,
   "metadata": {},
   "outputs": [],
   "source": [
    "# Now we will try to do Stemming to see the results"
   ]
  },
  {
   "cell_type": "code",
   "execution_count": 10,
   "metadata": {},
   "outputs": [
    {
     "name": "stdout",
     "output_type": "stream",
     "text": [
      "              precision    recall  f1-score   support\n",
      "\n",
      "           0       0.63      0.89      0.74        82\n",
      "           1       0.70      0.36      0.48        44\n",
      "           2       1.00      0.18      0.31        11\n",
      "           3       0.00      0.00      0.00        31\n",
      "           4       0.29      0.05      0.09        39\n",
      "           5       0.71      0.83      0.77       379\n",
      "           6       0.59      0.57      0.58       183\n",
      "\n",
      "    accuracy                           0.67       769\n",
      "   macro avg       0.56      0.41      0.42       769\n",
      "weighted avg       0.63      0.67      0.63       769\n",
      "\n"
     ]
    }
   ],
   "source": [
    "df1 = df.copy()\n",
    "df1['Title'] = df1['Title'].apply(apply_stemming)\n",
    "x = vectorizer.fit_transform(df1['Title'])\n",
    "x_train, x_test, y_train, y_test = train_test_split(x, df1['Domain'], test_size=0.2, random_state= 50)\n",
    "classifier.fit(x_train, y_train)\n",
    "predictions = classifier.predict(x_test)\n",
    "accuracy = accuracy_score(y_test, predictions)\n",
    "report = classification_report(y_test, predictions)\n",
    "accuracy\n",
    "print(report)"
   ]
  },
  {
   "cell_type": "markdown",
   "metadata": {},
   "source": [
    "## Random Forest"
   ]
  },
  {
   "cell_type": "code",
   "execution_count": 11,
   "metadata": {},
   "outputs": [
    {
     "name": "stdout",
     "output_type": "stream",
     "text": [
      "Accuracy: 0.6553966189856957\n",
      "              precision    recall  f1-score   support\n",
      "\n",
      "           0       0.67      0.83      0.74        82\n",
      "           1       0.66      0.43      0.52        44\n",
      "           2       1.00      0.18      0.31        11\n",
      "           3       0.00      0.00      0.00        31\n",
      "           4       0.25      0.05      0.09        39\n",
      "           5       0.67      0.83      0.74       379\n",
      "           6       0.62      0.54      0.58       183\n",
      "\n",
      "    accuracy                           0.66       769\n",
      "   macro avg       0.55      0.41      0.43       769\n",
      "weighted avg       0.62      0.66      0.62       769\n",
      "\n"
     ]
    }
   ],
   "source": [
    "\n",
    "from sklearn.ensemble import RandomForestClassifier\n",
    "x = vectorizer.fit_transform(df1['Title'])\n",
    "x_train,x_test,y_train,y_test = train_test_split(x,df1['Domain'], test_size= 0.2, random_state=50)\n",
    "rf_classifier = RandomForestClassifier(n_estimators=100, random_state=44)\n",
    "rf_classifier.fit(x_train,y_train)\n",
    "predictions = rf_classifier.predict(x_test)\n",
    "accuracy = accuracy_score(y_test, predictions)\n",
    "report = classification_report(y_test, predictions)\n",
    "print(f\"Accuracy: {accuracy}\")\n",
    "print(report)\n"
   ]
  },
  {
   "cell_type": "markdown",
   "metadata": {},
   "source": [
    "### Naive Bayes with lemmatization"
   ]
  },
  {
   "cell_type": "code",
   "execution_count": 12,
   "metadata": {},
   "outputs": [
    {
     "name": "stdout",
     "output_type": "stream",
     "text": [
      "              precision    recall  f1-score   support\n",
      "\n",
      "           0       0.62      0.87      0.72        82\n",
      "           1       0.67      0.41      0.51        44\n",
      "           2       1.00      0.18      0.31        11\n",
      "           3       0.00      0.00      0.00        31\n",
      "           4       0.40      0.05      0.09        39\n",
      "           5       0.71      0.82      0.76       379\n",
      "           6       0.58      0.57      0.58       183\n",
      "\n",
      "    accuracy                           0.66       769\n",
      "   macro avg       0.57      0.41      0.42       769\n",
      "weighted avg       0.63      0.66      0.63       769\n",
      "\n"
     ]
    }
   ],
   "source": [
    "# now after stemming, we will apply lemmatization on the words to see the results\n",
    "df2 = df.copy()\n",
    "df2['Title'] = df2['Title'].apply(apply_lemme)\n",
    "x = vectorizer.fit_transform(df2['Title'])\n",
    "x_train, x_test, y_train, y_test = train_test_split(x,df2['Domain'], test_size= 0.2, random_state=50)\n",
    "classifier.fit(x_train,y_train)\n",
    "predictions = classifier.predict(x_test)\n",
    "accuracy = accuracy_score(y_test, predictions)\n",
    "report = classification_report(y_test, predictions)\n",
    "# accuracy\n",
    "# print(report)\n",
    "print(report)"
   ]
  },
  {
   "cell_type": "code",
   "execution_count": null,
   "metadata": {},
   "outputs": [],
   "source": []
  }
 ],
 "metadata": {
  "kernelspec": {
   "display_name": "base",
   "language": "python",
   "name": "python3"
  },
  "language_info": {
   "codemirror_mode": {
    "name": "ipython",
    "version": 3
   },
   "file_extension": ".py",
   "mimetype": "text/x-python",
   "name": "python",
   "nbconvert_exporter": "python",
   "pygments_lexer": "ipython3",
   "version": "3.11.4"
  },
  "orig_nbformat": 4
 },
 "nbformat": 4,
 "nbformat_minor": 2
}
