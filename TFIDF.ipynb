{
 "cells": [
  {
   "cell_type": "code",
   "execution_count": 1,
   "metadata": {},
   "outputs": [
    {
     "name": "stderr",
     "output_type": "stream",
     "text": [
      "[nltk_data] Downloading package stopwords to\n",
      "[nltk_data]     C:\\Users\\Tnluser\\AppData\\Roaming\\nltk_data...\n",
      "[nltk_data]   Package stopwords is already up-to-date!\n",
      "[nltk_data] Downloading package punkt to\n",
      "[nltk_data]     C:\\Users\\Tnluser\\AppData\\Roaming\\nltk_data...\n",
      "[nltk_data]   Package punkt is already up-to-date!\n",
      "[nltk_data] Downloading package wordnet to\n",
      "[nltk_data]     C:\\Users\\Tnluser\\AppData\\Roaming\\nltk_data...\n",
      "[nltk_data]   Package wordnet is already up-to-date!\n"
     ]
    }
   ],
   "source": [
    "import pandas as pd\n",
    "import numpy as np\n",
    "import warnings\n",
    "warnings.filterwarnings(\"ignore\")\n",
    "from Functions import remove_punctation,apply_lemme,apply_stemming,remove_stop_words\n",
    "from sklearn.feature_extraction.text import TfidfVectorizer"
   ]
  },
  {
   "cell_type": "code",
   "execution_count": 2,
   "metadata": {},
   "outputs": [],
   "source": [
    "df = pd.read_csv('train_3.csv')\n",
    "df.drop(columns=['ID'], axis= 1, inplace= True)\n",
    "df['Title'] = df['Title'].str.lower()\n",
    "df['Title'] = df['Title'].astype(str)\n",
    "df['Title'] = df['Title'].apply(remove_punctation)\n",
    "df['Title'] = df['Title'].apply(remove_stop_words)"
   ]
  },
  {
   "cell_type": "code",
   "execution_count": 3,
   "metadata": {},
   "outputs": [],
   "source": [
    "from sklearn.model_selection import train_test_split\n",
    "from sklearn.feature_extraction.text import CountVectorizer\n",
    "from sklearn.naive_bayes import MultinomialNB\n",
    "from sklearn.metrics import accuracy_score, classification_report\n",
    "from sklearn.preprocessing import LabelEncoder\n",
    "from sklearn.ensemble import RandomForestClassifier"
   ]
  },
  {
   "cell_type": "code",
   "execution_count": 5,
   "metadata": {},
   "outputs": [],
   "source": [
    "df1 = df.copy()"
   ]
  },
  {
   "cell_type": "markdown",
   "metadata": {},
   "source": [
    "### random forest"
   ]
  },
  {
   "cell_type": "code",
   "execution_count": 7,
   "metadata": {},
   "outputs": [
    {
     "name": "stdout",
     "output_type": "stream",
     "text": [
      "0.6605981794538361\n",
      "              precision    recall  f1-score   support\n",
      "\n",
      "      Career       0.65      0.77      0.70        82\n",
      "  Hackathons       0.67      0.36      0.47        44\n",
      "        Misc       1.00      0.18      0.31        11\n",
      "       Other       0.00      0.00      0.00        31\n",
      "   Resources       0.00      0.00      0.00        39\n",
      "  Techniques       0.66      0.88      0.76       379\n",
      "       Tools       0.69      0.50      0.58       183\n",
      "\n",
      "    accuracy                           0.66       769\n",
      "   macro avg       0.52      0.39      0.40       769\n",
      "weighted avg       0.61      0.66      0.62       769\n",
      "\n"
     ]
    }
   ],
   "source": [
    "rf_classifier = RandomForestClassifier()\n",
    "tf_vectorizer = TfidfVectorizer()\n",
    "x = tf_vectorizer.fit_transform(df1['Title'])\n",
    "x_train, x_test, y_train, y_test = train_test_split(x, df1['Domain'], test_size= 0.2, random_state=50)\n",
    "rf_classifier.fit(x_train,y_train)\n",
    "predictions = rf_classifier.predict(x_test)\n",
    "accuracy = accuracy_score(y_test, predictions)\n",
    "report = classification_report(y_test, predictions)\n",
    "print(f\"{accuracy}\")\n",
    "print(report)"
   ]
  },
  {
   "cell_type": "markdown",
   "metadata": {},
   "source": [
    "### naive bayes"
   ]
  },
  {
   "cell_type": "code",
   "execution_count": 8,
   "metadata": {},
   "outputs": [
    {
     "name": "stdout",
     "output_type": "stream",
     "text": [
      "0.6254876462938882\n",
      "              precision    recall  f1-score   support\n",
      "\n",
      "      Career       0.82      0.62      0.71        82\n",
      "  Hackathons       0.86      0.14      0.24        44\n",
      "        Misc       0.00      0.00      0.00        11\n",
      "       Other       0.00      0.00      0.00        31\n",
      "   Resources       0.00      0.00      0.00        39\n",
      "  Techniques       0.60      0.94      0.73       379\n",
      "       Tools       0.64      0.38      0.48       183\n",
      "\n",
      "    accuracy                           0.63       769\n",
      "   macro avg       0.42      0.30      0.31       769\n",
      "weighted avg       0.59      0.63      0.56       769\n",
      "\n"
     ]
    }
   ],
   "source": [
    "classifier = MultinomialNB()\n",
    "x = tf_vectorizer.fit_transform(df1['Title'])\n",
    "x_train, x_test, y_train,y_test = train_test_split(x, df1['Domain'], test_size= 0.2, random_state= 50)\n",
    "classifier.fit(x_train, y_train)\n",
    "predictions = classifier.predict(x_test)\n",
    "print(accuracy_score(y_test, predictions))\n",
    "print(classification_report(y_test, predictions))"
   ]
  },
  {
   "cell_type": "code",
   "execution_count": null,
   "metadata": {},
   "outputs": [],
   "source": []
  }
 ],
 "metadata": {
  "kernelspec": {
   "display_name": "base",
   "language": "python",
   "name": "python3"
  },
  "language_info": {
   "codemirror_mode": {
    "name": "ipython",
    "version": 3
   },
   "file_extension": ".py",
   "mimetype": "text/x-python",
   "name": "python",
   "nbconvert_exporter": "python",
   "pygments_lexer": "ipython3",
   "version": "3.11.4"
  },
  "orig_nbformat": 4
 },
 "nbformat": 4,
 "nbformat_minor": 2
}
